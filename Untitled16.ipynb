{
 "cells": [
  {
   "cell_type": "code",
   "execution_count": 1,
   "id": "21429e23-70b4-4450-98f3-fdbaa0040923",
   "metadata": {},
   "outputs": [],
   "source": [
    "import os\n",
    "os.chdir(\"D:\\\\XUS\")"
   ]
  },
  {
   "cell_type": "code",
   "execution_count": 28,
   "id": "8ebbd313-f68e-44c4-b466-ca3e1ceffb59",
   "metadata": {},
   "outputs": [
    {
     "name": "stdout",
     "output_type": "stream",
     "text": [
      "Year-Price data has been generated and saved to 'year_price_data.csv'\n"
     ]
    }
   ],
   "source": [
    "import pandas as pd\n",
    "import numpy as np\n",
    "\n",
    "# Set the random seed for reproducibility\n",
    "np.random.seed(42)\n",
    "\n",
    "# Generate years from 1975 to 2023\n",
    "years = np.arange(1975, 2024)\n",
    "\n",
    "# Generate prices between 2000 and 2500\n",
    "initial_price = 2000\n",
    "price_trend = initial_price + np.cumsum(np.random.uniform(5, 10, size=len(years)))  # Cumulative sum to simulate gradual increase\n",
    "price_noise = np.random.normal(0, 20, size=len(years))  # Adding some random noise\n",
    "\n",
    "# Final prices with some noise, ensuring they stay within the 2000-2500 range\n",
    "prices = price_trend + price_noise\n",
    "prices = np.clip(prices, 2200, 2500)  # Clip the prices to ensure they stay within the range\n",
    "\n",
    "# Create a DataFrame\n",
    "df = pd.DataFrame({\n",
    "    'Year': years,\n",
    "    'Price': np.round(prices, 2)  # Round to 2 decimal places for currency format\n",
    "})\n",
    "\n",
    "# Save to CSV\n",
    "df.to_csv('year_price_data2.csv', index=False)\n",
    "\n",
    "print(\"Year-Price data has been generated and saved to 'year_price_data.csv'\")\n"
   ]
  },
  {
   "cell_type": "code",
   "execution_count": null,
   "id": "69227267-26fc-4075-8fa4-c9053714a93d",
   "metadata": {},
   "outputs": [],
   "source": []
  }
 ],
 "metadata": {
  "kernelspec": {
   "display_name": "Python [conda env:base] *",
   "language": "python",
   "name": "conda-base-py"
  },
  "language_info": {
   "codemirror_mode": {
    "name": "ipython",
    "version": 3
   },
   "file_extension": ".py",
   "mimetype": "text/x-python",
   "name": "python",
   "nbconvert_exporter": "python",
   "pygments_lexer": "ipython3",
   "version": "3.12.3"
  }
 },
 "nbformat": 4,
 "nbformat_minor": 5
}
