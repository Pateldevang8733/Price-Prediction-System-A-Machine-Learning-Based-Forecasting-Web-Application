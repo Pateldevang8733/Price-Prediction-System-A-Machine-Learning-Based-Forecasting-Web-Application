{
 "cells": [
  {
   "cell_type": "code",
   "execution_count": 3,
   "id": "21429e23-70b4-4450-98f3-fdbaa0040923",
   "metadata": {},
   "outputs": [],
   "source": [
    "import os\n",
    "os.chdir(\"D:\\\\DEVANG NEW THINGS\\\\XUS\\\\ULTIMATE PRICE PRIDICTION_NEW\")"
   ]
  },
  {
   "cell_type": "code",
   "execution_count": 11,
   "id": "8ebbd313-f68e-44c4-b466-ca3e1ceffb59",
   "metadata": {},
   "outputs": [
    {
     "name": "stdout",
     "output_type": "stream",
     "text": [
      "✅ Year-Price data with 1000 records (within ₹2200–₹2500) saved to 'year_price_data_fixed_range.csv'\n"
     ]
    }
   ],
   "source": [
    "import pandas as pd\n",
    "import numpy as np\n",
    "\n",
    "# Set seed for reproducibility\n",
    "np.random.seed(42)\n",
    "\n",
    "# Configuration\n",
    "start_year = 1975\n",
    "num_years = 1000\n",
    "years = np.arange(start_year, start_year + num_years)\n",
    "\n",
    "# Initial price range settings\n",
    "initial_price = np.random.uniform(2200, 2500)\n",
    "price_range_min = 2200\n",
    "price_range_max = 2500\n",
    "\n",
    "# Fluctuation settings\n",
    "fluctuation_range = 30  # Max increase or decrease per year\n",
    "\n",
    "# Generate prices\n",
    "prices = [initial_price]\n",
    "\n",
    "for _ in range(1, num_years):\n",
    "    # Fluctuate up or down randomly\n",
    "    fluctuation = np.random.uniform(-fluctuation_range, fluctuation_range)\n",
    "    next_price = prices[-1] + fluctuation\n",
    "\n",
    "    # Ensure the price stays within range\n",
    "    next_price = np.clip(next_price, price_range_min, price_range_max)\n",
    "    prices.append(next_price)\n",
    "\n",
    "# Create DataFrame\n",
    "df = pd.DataFrame({\n",
    "    'Year': years,\n",
    "    'Price': np.round(prices, 2)\n",
    "})\n",
    "\n",
    "# Save to CSV\n",
    "df.to_csv('year_price_data_fixed_range.csv', index=False)\n",
    "\n",
    "print(\"✅ Year-Price data with 1000 records (within ₹2200–₹2500) saved to 'year_price_data_fixed_range.csv'\")\n"
   ]
  },
  {
   "cell_type": "code",
   "execution_count": null,
   "id": "69227267-26fc-4075-8fa4-c9053714a93d",
   "metadata": {},
   "outputs": [],
   "source": []
  }
 ],
 "metadata": {
  "kernelspec": {
   "display_name": "Python [conda env:base] *",
   "language": "python",
   "name": "conda-base-py"
  },
  "language_info": {
   "codemirror_mode": {
    "name": "ipython",
    "version": 3
   },
   "file_extension": ".py",
   "mimetype": "text/x-python",
   "name": "python",
   "nbconvert_exporter": "python",
   "pygments_lexer": "ipython3",
   "version": "3.12.3"
  }
 },
 "nbformat": 4,
 "nbformat_minor": 5
}
